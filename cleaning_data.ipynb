{
 "cells": [
  {
   "cell_type": "code",
   "execution_count": 1,
   "id": "f78fcb08",
   "metadata": {},
   "outputs": [],
   "source": [
    "from pathlib import Path\n",
    "import pandas as pd\n",
    "import requests"
   ]
  },
  {
   "cell_type": "markdown",
   "id": "cd9837b6",
   "metadata": {},
   "source": [
    "This code calculates and gathers all the data required in policy_analysis.ipynb, namely the average stringency and facemask indices for each country (averaging from 1/1/2020 to 31/12/2022). It compiles all relevant data into one csv file named cleaned_data_df.\n"
   ]
  },
  {
   "cell_type": "code",
   "execution_count": 2,
   "id": "ce7284f5",
   "metadata": {},
   "outputs": [],
   "source": [
    "# reading in datasets \n",
    "\n",
    "csv_file_full = Path(\"Original_data/owid-covid-data.csv\")\n",
    "df = pd.read_csv(csv_file_full)\n",
    "\n",
    "csv_file_facemasks = Path(\"Original_data/face-covering-policies-covid.csv\")\n",
    "facemask_df = pd.read_csv(csv_file_facemasks)\n",
    "\n",
    "# iso2codes are required to get information about each country from worldbank api\n",
    "csv_file_iso = Path(\"cleaned_data/iso_codes.csv\")\n",
    "iso_codes_df = pd.read_csv(csv_file_iso)\n"
   ]
  },
  {
   "cell_type": "code",
   "execution_count": 3,
   "id": "124b7094",
   "metadata": {},
   "outputs": [],
   "source": [
    "# This csv file just contains stringency index each day for all countries\n",
    "\n",
    "string_cases_df = df[['location','date','stringency_index']]\n",
    "string_cases_df.to_csv('cleaned_data/string_df.csv',index=False)\n"
   ]
  },
  {
   "cell_type": "code",
   "execution_count": 4,
   "id": "2d884119",
   "metadata": {},
   "outputs": [],
   "source": [
    "# extracting raw data required\n",
    "\n",
    "covid_data_df = df[['continent','location','date','stringency_index','total_cases_per_million']]\n",
    "# Dropping na removes locations that are not countries since the value in continent is NaN for continents and \n",
    "# also removes countries that do not have a recorded stringency index.\n",
    "countries = covid_data_df.dropna()['location'].unique()\n",
    "\n",
    "facemask_df = facemask_df[['Entity','Day','facial_coverings']]\n",
    "facemask_df = facemask_df.rename(columns={\"Entity\": \"location\", \"Day\": \"date\", \"facial_coverings\": \"mask_index\"})\n",
    "\n"
   ]
  },
  {
   "cell_type": "code",
   "execution_count": 19,
   "id": "0a2e5bf7",
   "metadata": {},
   "outputs": [],
   "source": [
    "# The code in this cell retrieves incomeLevel for each country from workbank api. \n",
    "base_url = \"http://api.worldbank.org/V2/country/\"\n",
    "income_status=[]\n",
    "for i in range(0,len(countries)):\n",
    "    query_url = base_url + iso_codes_df.iloc[i,1] + \"?format=json\"\n",
    "    response = requests.get(query_url).json()\n",
    "    income_status.append(response[1][0]['incomeLevel']['value'])\n",
    "    "
   ]
  },
  {
   "cell_type": "code",
   "execution_count": 14,
   "id": "ca568569",
   "metadata": {},
   "outputs": [],
   "source": [
    "mean_stringency_index = []\n",
    "mean_facemask_index = []\n",
    "total_cases_pM = []\n",
    "\n",
    "for i in countries:\n",
    "    # dropping na removes any data later than 31/12/2022 since string/face index not recorded in dataset after this date\n",
    "    country_data_1 = covid_data_df.loc[(covid_data_df['location']==i),:].dropna()\n",
    "    #collecting total cases per million as of 31/12/2022\n",
    "    total_cases_pM.append(country_data_1.iloc[-1][4])\n",
    "    mean_stringency_index.append(country_data_1['stringency_index'].mean())\n",
    "    country_data_2 = facemask_df.loc[(facemask_df['location']==i),:].dropna()\n",
    "    mean_facemask_index.append(country_data_2['mask_index'].mean())\n",
    " "
   ]
  },
  {
   "cell_type": "code",
   "execution_count": 24,
   "id": "e1aad92e",
   "metadata": {},
   "outputs": [],
   "source": [
    "cleaned_data_df = pd.DataFrame({'Country':countries,'Mean Stringency Index':mean_stringency_index,\n",
    "                                'Mean Facemask Index':mean_facemask_index,'Total Cases per Million':total_cases_pM,\n",
    "                                'income status':income_status})\n"
   ]
  },
  {
   "cell_type": "code",
   "execution_count": 25,
   "id": "e8f89da0",
   "metadata": {},
   "outputs": [],
   "source": [
    "cleaned_data_df.to_csv('cleaned_data/cleaned_data.csv',index=False)"
   ]
  },
  {
   "cell_type": "code",
   "execution_count": 22,
   "id": "c2e102d4",
   "metadata": {},
   "outputs": [
    {
     "data": {
      "text/html": [
       "<div>\n",
       "<style scoped>\n",
       "    .dataframe tbody tr th:only-of-type {\n",
       "        vertical-align: middle;\n",
       "    }\n",
       "\n",
       "    .dataframe tbody tr th {\n",
       "        vertical-align: top;\n",
       "    }\n",
       "\n",
       "    .dataframe thead th {\n",
       "        text-align: right;\n",
       "    }\n",
       "</style>\n",
       "<table border=\"1\" class=\"dataframe\">\n",
       "  <thead>\n",
       "    <tr style=\"text-align: right;\">\n",
       "      <th></th>\n",
       "      <th>location</th>\n",
       "      <th>mean_stringency_index</th>\n",
       "      <th>mean_mask_index</th>\n",
       "      <th>total_cases_per_million</th>\n",
       "      <th>income_status</th>\n",
       "    </tr>\n",
       "  </thead>\n",
       "  <tbody>\n",
       "    <tr>\n",
       "      <th>0</th>\n",
       "      <td>Afghanistan</td>\n",
       "      <td>28.845644</td>\n",
       "      <td>2.225365</td>\n",
       "      <td>5046.443</td>\n",
       "      <td>Low income</td>\n",
       "    </tr>\n",
       "    <tr>\n",
       "      <th>1</th>\n",
       "      <td>Albania</td>\n",
       "      <td>44.381070</td>\n",
       "      <td>2.314781</td>\n",
       "      <td>117076.274</td>\n",
       "      <td>Upper middle income</td>\n",
       "    </tr>\n",
       "    <tr>\n",
       "      <th>2</th>\n",
       "      <td>Algeria</td>\n",
       "      <td>50.972144</td>\n",
       "      <td>2.605839</td>\n",
       "      <td>6040.033</td>\n",
       "      <td>Lower middle income</td>\n",
       "    </tr>\n",
       "    <tr>\n",
       "      <th>3</th>\n",
       "      <td>Andorra</td>\n",
       "      <td>35.494681</td>\n",
       "      <td>2.178832</td>\n",
       "      <td>598061.195</td>\n",
       "      <td>High income</td>\n",
       "    </tr>\n",
       "    <tr>\n",
       "      <th>4</th>\n",
       "      <td>Angola</td>\n",
       "      <td>55.480695</td>\n",
       "      <td>2.775547</td>\n",
       "      <td>2953.020</td>\n",
       "      <td>Lower middle income</td>\n",
       "    </tr>\n",
       "  </tbody>\n",
       "</table>\n",
       "</div>"
      ],
      "text/plain": [
       "      location  mean_stringency_index  mean_mask_index  \\\n",
       "0  Afghanistan              28.845644         2.225365   \n",
       "1      Albania              44.381070         2.314781   \n",
       "2      Algeria              50.972144         2.605839   \n",
       "3      Andorra              35.494681         2.178832   \n",
       "4       Angola              55.480695         2.775547   \n",
       "\n",
       "   total_cases_per_million        income_status  \n",
       "0                 5046.443           Low income  \n",
       "1               117076.274  Upper middle income  \n",
       "2                 6040.033  Lower middle income  \n",
       "3               598061.195          High income  \n",
       "4                 2953.020  Lower middle income  "
      ]
     },
     "execution_count": 22,
     "metadata": {},
     "output_type": "execute_result"
    }
   ],
   "source": [
    "cleaned_data_df.head()"
   ]
  },
  {
   "cell_type": "code",
   "execution_count": null,
   "id": "994f9372",
   "metadata": {},
   "outputs": [],
   "source": []
  }
 ],
 "metadata": {
  "kernelspec": {
   "display_name": "Python 3 (ipykernel)",
   "language": "python",
   "name": "python3"
  },
  "language_info": {
   "codemirror_mode": {
    "name": "ipython",
    "version": 3
   },
   "file_extension": ".py",
   "mimetype": "text/x-python",
   "name": "python",
   "nbconvert_exporter": "python",
   "pygments_lexer": "ipython3",
   "version": "3.10.11"
  }
 },
 "nbformat": 4,
 "nbformat_minor": 5
}
